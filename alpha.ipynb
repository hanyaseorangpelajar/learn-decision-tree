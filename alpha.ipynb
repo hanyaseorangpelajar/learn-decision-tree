{
 "cells": [
  {
   "cell_type": "code",
   "execution_count": 41,
   "id": "88641b09",
   "metadata": {},
   "outputs": [],
   "source": [
    "import pandas as pd\n",
    "from sklearn import *\n",
    "df = pd.read_csv (r'C:\\Users\\ASUS\\Desktop\\Machine Learning\\alpha.csv')\n",
    "from sklearn.tree import DecisionTreeClassifier"
   ]
  },
  {
   "cell_type": "code",
   "execution_count": 42,
   "id": "8c0bcefb",
   "metadata": {},
   "outputs": [],
   "source": [
    "alpha = pd.read_csv('alpha.csv')"
   ]
  },
  {
   "cell_type": "code",
   "execution_count": 43,
   "id": "f17bae9d",
   "metadata": {},
   "outputs": [
    {
     "data": {
      "text/plain": [
       "<bound method NDFrame.head of       id  Umur  BeratBadan  TinggiBadan JenisKelamin\n",
       "0      1    20          69          159         Pria\n",
       "1      2    18          79          160         Pria\n",
       "2      4    16          75          162       Wanita\n",
       "3      5    16          77          152         Pria\n",
       "4      6    16          82          169         Pria\n",
       "..   ...   ...         ...          ...          ...\n",
       "145  143    19          72          165       Wanita\n",
       "146  145    15          61          151       Wanita\n",
       "147  146    16          57          150       Wanita\n",
       "148  147    18          83          171       Wanita\n",
       "149  150    16          50          152         Pria\n",
       "\n",
       "[150 rows x 5 columns]>"
      ]
     },
     "execution_count": 43,
     "metadata": {},
     "output_type": "execute_result"
    }
   ],
   "source": [
    "alpha.info\n",
    "alpha.head"
   ]
  },
  {
   "cell_type": "code",
   "execution_count": 44,
   "id": "29dcfa56",
   "metadata": {},
   "outputs": [],
   "source": [
    "alpha.drop('id',axis=1,inplace=True)"
   ]
  },
  {
   "cell_type": "code",
   "execution_count": 45,
   "id": "bdcc498e",
   "metadata": {},
   "outputs": [],
   "source": [
    "X = alpha[['Umur', 'BeratBadan', 'TinggiBadan']]\n",
    "y = alpha['JenisKelamin']"
   ]
  },
  {
   "cell_type": "code",
   "execution_count": 46,
   "id": "b117b85f",
   "metadata": {},
   "outputs": [],
   "source": [
    "from sklearn.model_selection import train_test_split\n",
    "X_train, X_test, y_train, y_test = train_test_split(X, y, test_size=0.1, random_state=123)"
   ]
  },
  {
   "cell_type": "code",
   "execution_count": 47,
   "id": "9cb14663",
   "metadata": {},
   "outputs": [],
   "source": [
    "# membuat model Decision Tree\n",
    "gender = DecisionTreeClassifier() \n",
    " \n",
    "# Melatih model dengan menggunakan data latih\n",
    "gender = gender.fit(X_train.values, y_train.values)"
   ]
  },
  {
   "cell_type": "code",
   "execution_count": 48,
   "id": "e610de46",
   "metadata": {},
   "outputs": [
    {
     "name": "stdout",
     "output_type": "stream",
     "text": [
      "Accuracy:  0.667\n"
     ]
    }
   ],
   "source": [
    "# Evaluasi Model\n",
    "from sklearn.metrics import accuracy_score\n",
    " \n",
    "y_pred = gender.predict(X_test.values)\n",
    " \n",
    "acc_secore = round(accuracy_score(y_pred, y_test), 3)\n",
    " \n",
    "print('Accuracy: ', acc_secore)"
   ]
  },
  {
   "cell_type": "code",
   "execution_count": 49,
   "id": "331f5967",
   "metadata": {},
   "outputs": [
    {
     "name": "stdout",
     "output_type": "stream",
     "text": [
      "Pria\n",
      "Pria\n",
      "Wanita\n",
      "Wanita\n",
      "Pria\n"
     ]
    }
   ],
   "source": [
    "# prediksi model dengan tree_model.predict([[Umur, BeratBadan, TinggiBadan]])\n",
    "print(gender.predict([[20, 69, 159]])[0])\n",
    "print(gender.predict([[17, 85, 165]])[0])\n",
    "print(gender.predict([[16, 75, 162]])[0])\n",
    "print(gender.predict([[20, 40, 160]])[0])\n",
    "print(gender.predict([[20, 93, 172]])[0])"
   ]
  },
  {
   "cell_type": "code",
   "execution_count": 51,
   "id": "29b3b835",
   "metadata": {},
   "outputs": [],
   "source": [
    "from sklearn.tree import export_graphviz\n",
    "export_graphviz(\n",
    "    gender,\n",
    "    out_file = \"alpha.dot\",\n",
    "    feature_names = ['Umur', 'TinggiBadan', 'BeratBadan'],\n",
    "    class_names = ['Pria', 'Wanita' ],\n",
    "    rounded= True,\n",
    "    filled =True)"
   ]
  },
  {
   "cell_type": "code",
   "execution_count": null,
   "id": "e174d006",
   "metadata": {},
   "outputs": [],
   "source": []
  }
 ],
 "metadata": {
  "kernelspec": {
   "display_name": "Python 3 (ipykernel)",
   "language": "python",
   "name": "python3"
  },
  "language_info": {
   "codemirror_mode": {
    "name": "ipython",
    "version": 3
   },
   "file_extension": ".py",
   "mimetype": "text/x-python",
   "name": "python",
   "nbconvert_exporter": "python",
   "pygments_lexer": "ipython3",
   "version": "3.9.12"
  }
 },
 "nbformat": 4,
 "nbformat_minor": 5
}
